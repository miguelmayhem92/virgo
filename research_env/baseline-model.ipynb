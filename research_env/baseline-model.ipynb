{
 "cells": [
  {
   "cell_type": "markdown",
   "metadata": {},
   "source": [
    "# Virgo: exploratory data analysis"
   ]
  },
  {
   "cell_type": "markdown",
   "metadata": {},
   "source": [
    "starting"
   ]
  },
  {
   "cell_type": "markdown",
   "metadata": {},
   "source": [
    "## Libraries"
   ]
  },
  {
   "cell_type": "code",
   "execution_count": 1,
   "metadata": {},
   "outputs": [],
   "source": [
    "import yfinance as yf\n",
    "import pandas as pd\n",
    "import numpy as np"
   ]
  },
  {
   "cell_type": "code",
   "execution_count": 2,
   "metadata": {},
   "outputs": [],
   "source": [
    "import matplotlib.pyplot as plt\n",
    "import matplotlib.gridspec as gridspec\n",
    "import seaborn as sns; sns.set()\n",
    "\n",
    "import plotly.express as px\n",
    "import plotly.offline as pyo"
   ]
  },
  {
   "cell_type": "code",
   "execution_count": 3,
   "metadata": {},
   "outputs": [],
   "source": [
    "import datetime\n",
    "from dateutil.relativedelta import relativedelta"
   ]
  },
  {
   "cell_type": "code",
   "execution_count": 4,
   "metadata": {},
   "outputs": [],
   "source": [
    "import data_functions\n",
    "import configs"
   ]
  },
  {
   "cell_type": "markdown",
   "metadata": {},
   "source": [
    "## Transfomations"
   ]
  },
  {
   "cell_type": "code",
   "execution_count": 5,
   "metadata": {},
   "outputs": [],
   "source": [
    "n_days = configs.data_configs.n_days\n",
    "lag_days = configs.data_configs.lags\n",
    "window = configs.data_configs.window\n",
    "ref_price = configs.data_configs.ref_price\n",
    "std_column = configs.data_configs.std_column\n",
    "logdif_column = configs.data_configs.logdif_column"
   ]
  },
  {
   "cell_type": "code",
   "execution_count": 11,
   "metadata": {},
   "outputs": [
    {
     "name": "stdout",
     "output_type": "stream",
     "text": [
      "the return is given for 3 days\n"
     ]
    }
   ],
   "source": [
    "print(f'the return is given for {lag_days} days')"
   ]
  },
  {
   "cell_type": "code",
   "execution_count": 6,
   "metadata": {},
   "outputs": [],
   "source": [
    "appl_stock = data_functions.get_stock_data(stock_code = \"AAPL\", n_days = n_days, window = window, lags = lag_days)\n",
    "appl_stock = data_functions.shape_data(appl_stock, 'apple', ref_price, std_column, logdif_column)"
   ]
  },
  {
   "cell_type": "code",
   "execution_count": 10,
   "metadata": {},
   "outputs": [],
   "source": [
    "test_data = '2022-12-01'### higher equal"
   ]
  },
  {
   "cell_type": "code",
   "execution_count": 12,
   "metadata": {},
   "outputs": [
    {
     "data": {
      "text/html": [
       "<div>\n",
       "<style scoped>\n",
       "    .dataframe tbody tr th:only-of-type {\n",
       "        vertical-align: middle;\n",
       "    }\n",
       "\n",
       "    .dataframe tbody tr th {\n",
       "        vertical-align: top;\n",
       "    }\n",
       "\n",
       "    .dataframe thead th {\n",
       "        text-align: right;\n",
       "    }\n",
       "</style>\n",
       "<table border=\"1\" class=\"dataframe\">\n",
       "  <thead>\n",
       "    <tr style=\"text-align: right;\">\n",
       "      <th></th>\n",
       "      <th>Date</th>\n",
       "      <th>apple_price</th>\n",
       "      <th>apple_stv</th>\n",
       "      <th>apple_logdif</th>\n",
       "    </tr>\n",
       "  </thead>\n",
       "  <tbody>\n",
       "    <tr>\n",
       "      <th>10370</th>\n",
       "      <td>2022-01-28</td>\n",
       "      <td>169.347137</td>\n",
       "      <td>3.897075</td>\n",
       "      <td>0.063940</td>\n",
       "    </tr>\n",
       "    <tr>\n",
       "      <th>10371</th>\n",
       "      <td>2022-01-31</td>\n",
       "      <td>173.771454</td>\n",
       "      <td>6.070753</td>\n",
       "      <td>0.090294</td>\n",
       "    </tr>\n",
       "    <tr>\n",
       "      <th>10372</th>\n",
       "      <td>2022-02-01</td>\n",
       "      <td>173.602463</td>\n",
       "      <td>7.181807</td>\n",
       "      <td>0.092268</td>\n",
       "    </tr>\n",
       "    <tr>\n",
       "      <th>10373</th>\n",
       "      <td>2022-02-02</td>\n",
       "      <td>174.825333</td>\n",
       "      <td>7.805710</td>\n",
       "      <td>0.031837</td>\n",
       "    </tr>\n",
       "    <tr>\n",
       "      <th>10374</th>\n",
       "      <td>2022-02-03</td>\n",
       "      <td>171.902313</td>\n",
       "      <td>7.126177</td>\n",
       "      <td>-0.010815</td>\n",
       "    </tr>\n",
       "    <tr>\n",
       "      <th>...</th>\n",
       "      <td>...</td>\n",
       "      <td>...</td>\n",
       "      <td>...</td>\n",
       "      <td>...</td>\n",
       "    </tr>\n",
       "    <tr>\n",
       "      <th>10607</th>\n",
       "      <td>2023-01-09</td>\n",
       "      <td>130.149994</td>\n",
       "      <td>2.370321</td>\n",
       "      <td>0.029553</td>\n",
       "    </tr>\n",
       "    <tr>\n",
       "      <th>10608</th>\n",
       "      <td>2023-01-10</td>\n",
       "      <td>130.729996</td>\n",
       "      <td>2.532091</td>\n",
       "      <td>0.044660</td>\n",
       "    </tr>\n",
       "    <tr>\n",
       "      <th>10609</th>\n",
       "      <td>2023-01-11</td>\n",
       "      <td>133.490005</td>\n",
       "      <td>3.219177</td>\n",
       "      <td>0.029420</td>\n",
       "    </tr>\n",
       "    <tr>\n",
       "      <th>10610</th>\n",
       "      <td>2023-01-12</td>\n",
       "      <td>133.410004</td>\n",
       "      <td>3.223493</td>\n",
       "      <td>0.024740</td>\n",
       "    </tr>\n",
       "    <tr>\n",
       "      <th>10611</th>\n",
       "      <td>2023-01-13</td>\n",
       "      <td>133.589996</td>\n",
       "      <td>3.083196</td>\n",
       "      <td>0.021641</td>\n",
       "    </tr>\n",
       "  </tbody>\n",
       "</table>\n",
       "<p>242 rows × 4 columns</p>\n",
       "</div>"
      ],
      "text/plain": [
       "            Date  apple_price  apple_stv  apple_logdif\n",
       "10370 2022-01-28   169.347137   3.897075      0.063940\n",
       "10371 2022-01-31   173.771454   6.070753      0.090294\n",
       "10372 2022-02-01   173.602463   7.181807      0.092268\n",
       "10373 2022-02-02   174.825333   7.805710      0.031837\n",
       "10374 2022-02-03   171.902313   7.126177     -0.010815\n",
       "...          ...          ...        ...           ...\n",
       "10607 2023-01-09   130.149994   2.370321      0.029553\n",
       "10608 2023-01-10   130.729996   2.532091      0.044660\n",
       "10609 2023-01-11   133.490005   3.219177      0.029420\n",
       "10610 2023-01-12   133.410004   3.223493      0.024740\n",
       "10611 2023-01-13   133.589996   3.083196      0.021641\n",
       "\n",
       "[242 rows x 4 columns]"
      ]
     },
     "execution_count": 12,
     "metadata": {},
     "output_type": "execute_result"
    }
   ],
   "source": [
    "appl_stock"
   ]
  },
  {
   "cell_type": "code",
   "execution_count": null,
   "metadata": {},
   "outputs": [],
   "source": []
  }
 ],
 "metadata": {
  "kernelspec": {
   "display_name": "Python 3",
   "language": "python",
   "name": "python3"
  },
  "language_info": {
   "codemirror_mode": {
    "name": "ipython",
    "version": 3
   },
   "file_extension": ".py",
   "mimetype": "text/x-python",
   "name": "python",
   "nbconvert_exporter": "python",
   "pygments_lexer": "ipython3",
   "version": "3.7.6"
  }
 },
 "nbformat": 4,
 "nbformat_minor": 4
}
