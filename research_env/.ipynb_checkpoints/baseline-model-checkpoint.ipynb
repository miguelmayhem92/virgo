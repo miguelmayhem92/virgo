{
 "cells": [
  {
   "cell_type": "markdown",
   "metadata": {},
   "source": [
    "# Virgo: exploratory data analysis"
   ]
  },
  {
   "cell_type": "markdown",
   "metadata": {},
   "source": [
    "starting"
   ]
  },
  {
   "cell_type": "markdown",
   "metadata": {},
   "source": [
    "## Libraries"
   ]
  },
  {
   "cell_type": "code",
   "execution_count": 1,
   "metadata": {},
   "outputs": [],
   "source": [
    "import yfinance as yf\n",
    "import pandas as pd\n",
    "import numpy as np"
   ]
  },
  {
   "cell_type": "code",
   "execution_count": 2,
   "metadata": {},
   "outputs": [],
   "source": [
    "import matplotlib.pyplot as plt\n",
    "import matplotlib.gridspec as gridspec\n",
    "import seaborn as sns; sns.set()\n",
    "\n",
    "import plotly.express as px\n",
    "import plotly.offline as pyo"
   ]
  },
  {
   "cell_type": "code",
   "execution_count": 3,
   "metadata": {},
   "outputs": [],
   "source": [
    "import datetime\n",
    "from dateutil.relativedelta import relativedelta"
   ]
  },
  {
   "cell_type": "code",
   "execution_count": 4,
   "metadata": {},
   "outputs": [],
   "source": [
    "import data_functions\n",
    "import configs"
   ]
  },
  {
   "cell_type": "code",
   "execution_count": 5,
   "metadata": {},
   "outputs": [],
   "source": [
    "import os\n",
    "\n",
    "import IPython\n",
    "import IPython.display\n",
    "import matplotlib as mpl\n",
    "import matplotlib.pyplot as plt\n",
    "import tensorflow as tf\n",
    "\n",
    "mpl.rcParams['figure.figsize'] = (8, 6)\n",
    "mpl.rcParams['axes.grid'] = False"
   ]
  },
  {
   "cell_type": "code",
   "execution_count": 6,
   "metadata": {},
   "outputs": [
    {
     "data": {
      "text/plain": [
       "'2.11.0'"
      ]
     },
     "execution_count": 6,
     "metadata": {},
     "output_type": "execute_result"
    }
   ],
   "source": [
    "tf.__version__"
   ]
  },
  {
   "cell_type": "markdown",
   "metadata": {},
   "source": [
    "## Transfomations"
   ]
  },
  {
   "cell_type": "code",
   "execution_count": 8,
   "metadata": {},
   "outputs": [],
   "source": [
    "n_days = configs.data_configs.n_days\n",
    "lag_days = configs.data_configs.lags\n",
    "window = configs.data_configs.window\n",
    "ref_price = configs.data_configs.ref_price\n",
    "std_column = configs.data_configs.std_column\n",
    "logdif_column = configs.data_configs.logdif_column\n",
    "split_config = configs.data_configs.split_config"
   ]
  },
  {
   "cell_type": "code",
   "execution_count": 9,
   "metadata": {},
   "outputs": [
    {
     "name": "stdout",
     "output_type": "stream",
     "text": [
      "the return is given for 3 days\n"
     ]
    }
   ],
   "source": [
    "print(f'the return is given for {lag_days} days')"
   ]
  },
  {
   "cell_type": "code",
   "execution_count": 10,
   "metadata": {},
   "outputs": [],
   "source": [
    "appl_stock = data_functions.get_stock_data(stock_code = \"AAPL\", n_days = n_days, window = window, lags = lag_days)\n",
    "appl_stock = data_functions.shape_data(appl_stock, 'apple', ref_price, std_column, logdif_column)"
   ]
  },
  {
   "cell_type": "code",
   "execution_count": 11,
   "metadata": {},
   "outputs": [],
   "source": [
    "test_data = '2022-12-01'### higher equal"
   ]
  },
  {
   "cell_type": "code",
   "execution_count": 12,
   "metadata": {},
   "outputs": [
    {
     "data": {
      "text/html": [
       "<div>\n",
       "<style scoped>\n",
       "    .dataframe tbody tr th:only-of-type {\n",
       "        vertical-align: middle;\n",
       "    }\n",
       "\n",
       "    .dataframe tbody tr th {\n",
       "        vertical-align: top;\n",
       "    }\n",
       "\n",
       "    .dataframe thead th {\n",
       "        text-align: right;\n",
       "    }\n",
       "</style>\n",
       "<table border=\"1\" class=\"dataframe\">\n",
       "  <thead>\n",
       "    <tr style=\"text-align: right;\">\n",
       "      <th></th>\n",
       "      <th>Date</th>\n",
       "      <th>apple_price</th>\n",
       "      <th>apple_stv</th>\n",
       "      <th>apple_logdif</th>\n",
       "    </tr>\n",
       "  </thead>\n",
       "  <tbody>\n",
       "    <tr>\n",
       "      <th>9958</th>\n",
       "      <td>2020-06-11 00:00:00-04:00</td>\n",
       "      <td>82.686882</td>\n",
       "      <td>2.606931</td>\n",
       "      <td>0.007291</td>\n",
       "    </tr>\n",
       "    <tr>\n",
       "      <th>9959</th>\n",
       "      <td>2020-06-12 00:00:00-04:00</td>\n",
       "      <td>83.400764</td>\n",
       "      <td>2.383473</td>\n",
       "      <td>-0.015203</td>\n",
       "    </tr>\n",
       "    <tr>\n",
       "      <th>9960</th>\n",
       "      <td>2020-06-15 00:00:00-04:00</td>\n",
       "      <td>84.432198</td>\n",
       "      <td>1.806032</td>\n",
       "      <td>-0.028314</td>\n",
       "    </tr>\n",
       "    <tr>\n",
       "      <th>9961</th>\n",
       "      <td>2020-06-16 00:00:00-04:00</td>\n",
       "      <td>86.669853</td>\n",
       "      <td>1.850856</td>\n",
       "      <td>0.047045</td>\n",
       "    </tr>\n",
       "    <tr>\n",
       "      <th>9962</th>\n",
       "      <td>2020-06-17 00:00:00-04:00</td>\n",
       "      <td>86.549232</td>\n",
       "      <td>1.681265</td>\n",
       "      <td>0.037056</td>\n",
       "    </tr>\n",
       "  </tbody>\n",
       "</table>\n",
       "</div>"
      ],
      "text/plain": [
       "                          Date  apple_price  apple_stv  apple_logdif\n",
       "9958 2020-06-11 00:00:00-04:00    82.686882   2.606931      0.007291\n",
       "9959 2020-06-12 00:00:00-04:00    83.400764   2.383473     -0.015203\n",
       "9960 2020-06-15 00:00:00-04:00    84.432198   1.806032     -0.028314\n",
       "9961 2020-06-16 00:00:00-04:00    86.669853   1.850856      0.047045\n",
       "9962 2020-06-17 00:00:00-04:00    86.549232   1.681265      0.037056"
      ]
     },
     "execution_count": 12,
     "metadata": {},
     "output_type": "execute_result"
    }
   ],
   "source": [
    "appl_stock.head()"
   ]
  },
  {
   "cell_type": "markdown",
   "metadata": {},
   "source": [
    "#### Feature engineering"
   ]
  },
  {
   "cell_type": "code",
   "execution_count": 13,
   "metadata": {},
   "outputs": [],
   "source": [
    "def data_eng_features(data, target):\n",
    "    data = (\n",
    "        data\n",
    "        .sort_values('Date')\n",
    "        .set_index('Date')\n",
    "        .assign(up_yield = np.where(data[target] > 0, 1,0))\n",
    "        .assign(low_yield = np.where(data[target] <= 0, 1,0))\n",
    "    )\n",
    "    ## rolling operations\n",
    "    data[\"roll_up_yield\"] = data.sort_index()[\"up_yield\"].transform(lambda x: x.rolling(3, min_periods=1).sum())\n",
    "    data[\"roll_low_yield\"] = data.sort_index()[\"low_yield\"].transform(lambda x: x.rolling(3, min_periods=1).sum())\n",
    "    data[f\"roll_{target}\"] = data.sort_index()[target].transform(lambda x: x.rolling(3, min_periods=1).mean())\n",
    "    \n",
    "    ## getting lags\n",
    "    lags = [30]\n",
    "    columns_to_lag = [target,f\"roll_{target}\",\"roll_up_yield\", \"roll_low_yield\"]\n",
    "    \n",
    "    for lag_ in lags:\n",
    "        for col_ in columns_to_lag:\n",
    "            data[f'lag_{lag_}_{col_}'] = data[col_].shift(lag_)\n",
    "    \n",
    "    ## some cleaning\n",
    "    result = (\n",
    "        data\n",
    "        .drop(columns = ['apple_price'])\n",
    "        .dropna(axis='rows')\n",
    "    )\n",
    "    \n",
    "    return result"
   ]
  },
  {
   "cell_type": "code",
   "execution_count": 14,
   "metadata": {},
   "outputs": [],
   "source": [
    "data_featured = data_eng_features(data = appl_stock, target = 'apple_logdif')"
   ]
  },
  {
   "cell_type": "code",
   "execution_count": 15,
   "metadata": {},
   "outputs": [
    {
     "data": {
      "text/plain": [
       "(624, 11)"
      ]
     },
     "execution_count": 15,
     "metadata": {},
     "output_type": "execute_result"
    }
   ],
   "source": [
    "data_featured.shape"
   ]
  },
  {
   "cell_type": "code",
   "execution_count": 16,
   "metadata": {},
   "outputs": [
    {
     "data": {
      "text/html": [
       "<div>\n",
       "<style scoped>\n",
       "    .dataframe tbody tr th:only-of-type {\n",
       "        vertical-align: middle;\n",
       "    }\n",
       "\n",
       "    .dataframe tbody tr th {\n",
       "        vertical-align: top;\n",
       "    }\n",
       "\n",
       "    .dataframe thead th {\n",
       "        text-align: right;\n",
       "    }\n",
       "</style>\n",
       "<table border=\"1\" class=\"dataframe\">\n",
       "  <thead>\n",
       "    <tr style=\"text-align: right;\">\n",
       "      <th></th>\n",
       "      <th>apple_stv</th>\n",
       "      <th>apple_logdif</th>\n",
       "      <th>up_yield</th>\n",
       "      <th>low_yield</th>\n",
       "      <th>roll_up_yield</th>\n",
       "      <th>roll_low_yield</th>\n",
       "      <th>roll_apple_logdif</th>\n",
       "      <th>lag_30_apple_logdif</th>\n",
       "      <th>lag_30_roll_apple_logdif</th>\n",
       "      <th>lag_30_roll_up_yield</th>\n",
       "      <th>lag_30_roll_low_yield</th>\n",
       "    </tr>\n",
       "    <tr>\n",
       "      <th>Date</th>\n",
       "      <th></th>\n",
       "      <th></th>\n",
       "      <th></th>\n",
       "      <th></th>\n",
       "      <th></th>\n",
       "      <th></th>\n",
       "      <th></th>\n",
       "      <th></th>\n",
       "      <th></th>\n",
       "      <th></th>\n",
       "      <th></th>\n",
       "    </tr>\n",
       "  </thead>\n",
       "  <tbody>\n",
       "    <tr>\n",
       "      <th>2020-07-24 00:00:00-04:00</th>\n",
       "      <td>2.194746</td>\n",
       "      <td>-0.046260</td>\n",
       "      <td>0</td>\n",
       "      <td>1</td>\n",
       "      <td>1.0</td>\n",
       "      <td>2.0</td>\n",
       "      <td>-0.031392</td>\n",
       "      <td>0.007291</td>\n",
       "      <td>0.007291</td>\n",
       "      <td>1.0</td>\n",
       "      <td>0.0</td>\n",
       "    </tr>\n",
       "    <tr>\n",
       "      <th>2020-07-27 00:00:00-04:00</th>\n",
       "      <td>2.202299</td>\n",
       "      <td>-0.025641</td>\n",
       "      <td>0</td>\n",
       "      <td>1</td>\n",
       "      <td>0.0</td>\n",
       "      <td>3.0</td>\n",
       "      <td>-0.043193</td>\n",
       "      <td>-0.015203</td>\n",
       "      <td>-0.003956</td>\n",
       "      <td>1.0</td>\n",
       "      <td>1.0</td>\n",
       "    </tr>\n",
       "    <tr>\n",
       "      <th>2020-07-28 00:00:00-04:00</th>\n",
       "      <td>2.332534</td>\n",
       "      <td>0.004380</td>\n",
       "      <td>1</td>\n",
       "      <td>0</td>\n",
       "      <td>1.0</td>\n",
       "      <td>2.0</td>\n",
       "      <td>-0.022507</td>\n",
       "      <td>-0.028314</td>\n",
       "      <td>-0.012075</td>\n",
       "      <td>1.0</td>\n",
       "      <td>2.0</td>\n",
       "    </tr>\n",
       "    <tr>\n",
       "      <th>2020-07-29 00:00:00-04:00</th>\n",
       "      <td>1.881975</td>\n",
       "      <td>0.025847</td>\n",
       "      <td>1</td>\n",
       "      <td>0</td>\n",
       "      <td>2.0</td>\n",
       "      <td>1.0</td>\n",
       "      <td>0.001528</td>\n",
       "      <td>0.047045</td>\n",
       "      <td>0.001176</td>\n",
       "      <td>1.0</td>\n",
       "      <td>2.0</td>\n",
       "    </tr>\n",
       "    <tr>\n",
       "      <th>2020-07-30 00:00:00-04:00</th>\n",
       "      <td>1.740167</td>\n",
       "      <td>0.014451</td>\n",
       "      <td>1</td>\n",
       "      <td>0</td>\n",
       "      <td>3.0</td>\n",
       "      <td>0.0</td>\n",
       "      <td>0.014892</td>\n",
       "      <td>0.037056</td>\n",
       "      <td>0.018596</td>\n",
       "      <td>2.0</td>\n",
       "      <td>1.0</td>\n",
       "    </tr>\n",
       "  </tbody>\n",
       "</table>\n",
       "</div>"
      ],
      "text/plain": [
       "                           apple_stv  apple_logdif  up_yield  low_yield  \\\n",
       "Date                                                                      \n",
       "2020-07-24 00:00:00-04:00   2.194746     -0.046260         0          1   \n",
       "2020-07-27 00:00:00-04:00   2.202299     -0.025641         0          1   \n",
       "2020-07-28 00:00:00-04:00   2.332534      0.004380         1          0   \n",
       "2020-07-29 00:00:00-04:00   1.881975      0.025847         1          0   \n",
       "2020-07-30 00:00:00-04:00   1.740167      0.014451         1          0   \n",
       "\n",
       "                           roll_up_yield  roll_low_yield  roll_apple_logdif  \\\n",
       "Date                                                                          \n",
       "2020-07-24 00:00:00-04:00            1.0             2.0          -0.031392   \n",
       "2020-07-27 00:00:00-04:00            0.0             3.0          -0.043193   \n",
       "2020-07-28 00:00:00-04:00            1.0             2.0          -0.022507   \n",
       "2020-07-29 00:00:00-04:00            2.0             1.0           0.001528   \n",
       "2020-07-30 00:00:00-04:00            3.0             0.0           0.014892   \n",
       "\n",
       "                           lag_30_apple_logdif  lag_30_roll_apple_logdif  \\\n",
       "Date                                                                       \n",
       "2020-07-24 00:00:00-04:00             0.007291                  0.007291   \n",
       "2020-07-27 00:00:00-04:00            -0.015203                 -0.003956   \n",
       "2020-07-28 00:00:00-04:00            -0.028314                 -0.012075   \n",
       "2020-07-29 00:00:00-04:00             0.047045                  0.001176   \n",
       "2020-07-30 00:00:00-04:00             0.037056                  0.018596   \n",
       "\n",
       "                           lag_30_roll_up_yield  lag_30_roll_low_yield  \n",
       "Date                                                                    \n",
       "2020-07-24 00:00:00-04:00                   1.0                    0.0  \n",
       "2020-07-27 00:00:00-04:00                   1.0                    1.0  \n",
       "2020-07-28 00:00:00-04:00                   1.0                    2.0  \n",
       "2020-07-29 00:00:00-04:00                   1.0                    2.0  \n",
       "2020-07-30 00:00:00-04:00                   2.0                    1.0  "
      ]
     },
     "execution_count": 16,
     "metadata": {},
     "output_type": "execute_result"
    }
   ],
   "source": [
    "data_featured.head()"
   ]
  },
  {
   "cell_type": "markdown",
   "metadata": {},
   "source": [
    "## Spliting data"
   ]
  },
  {
   "cell_type": "code",
   "execution_count": 19,
   "metadata": {},
   "outputs": [],
   "source": [
    "stock_data = data_featured.sort_index()"
   ]
  },
  {
   "cell_type": "code",
   "execution_count": 22,
   "metadata": {},
   "outputs": [],
   "source": [
    "column_indices = {name: i for i, name in enumerate(stock_data.columns)}\n",
    "\n",
    "n = len(appl_stock)\n",
    "train_df = stock_data[0:int(n*split_config['train'])]\n",
    "val_df = stock_data[int(n*split_config['train']):int(n*split_config['val'])]\n",
    "test_df = stock_data[int(n*split_config['val']):]\n",
    "\n",
    "num_features = stock_data.shape[1]"
   ]
  },
  {
   "cell_type": "code",
   "execution_count": 23,
   "metadata": {},
   "outputs": [
    {
     "data": {
      "text/plain": [
       "11"
      ]
     },
     "execution_count": 23,
     "metadata": {},
     "output_type": "execute_result"
    }
   ],
   "source": [
    "num_features"
   ]
  },
  {
   "cell_type": "code",
   "execution_count": 24,
   "metadata": {},
   "outputs": [
    {
     "data": {
      "text/plain": [
       "((425, 11), (130, 11), (69, 11))"
      ]
     },
     "execution_count": 24,
     "metadata": {},
     "output_type": "execute_result"
    }
   ],
   "source": [
    "train_df.shape, val_df.shape, test_df.shape"
   ]
  },
  {
   "cell_type": "markdown",
   "metadata": {},
   "source": [
    "### Scaling"
   ]
  },
  {
   "cell_type": "code",
   "execution_count": 25,
   "metadata": {},
   "outputs": [],
   "source": [
    "train_mean = train_df.mean()\n",
    "train_std = train_df.std()\n",
    "\n",
    "train_df = (train_df - train_mean) / train_std\n",
    "val_df = (val_df - train_mean) / train_std\n",
    "test_df = (test_df - train_mean) / train_std"
   ]
  },
  {
   "cell_type": "markdown",
   "metadata": {},
   "source": [
    "### Data preparation for training"
   ]
  },
  {
   "cell_type": "code",
   "execution_count": 57,
   "metadata": {},
   "outputs": [],
   "source": [
    "class WindowGenerator():\n",
    "    def __init__(self, input_width, label_width, shift,\n",
    "                   train_df=train_df, val_df=val_df, test_df=test_df,\n",
    "                   label_columns=None):\n",
    "        # Store the raw data.\n",
    "        self.train_df = train_df\n",
    "        self.val_df = val_df\n",
    "        self.test_df = test_df\n",
    "\n",
    "        # Work out the label column indices.\n",
    "        self.label_columns = label_columns\n",
    "        if label_columns is not None:\n",
    "            self.label_columns_indices = {\n",
    "                name: i for i, name in enumerate(label_columns)  ### for each label column one dict with index\n",
    "            }\n",
    "            \n",
    "        self.column_indices = {\n",
    "            name: i for i, name in enumerate(train_df.columns) ### for each column observation one dict with index\n",
    "        }\n",
    "\n",
    "        # Work out the window parameters.\n",
    "        self.input_width = input_width\n",
    "        self.label_width = label_width  # number of time steps to predict\n",
    "        self.shift = shift  ## or offset\n",
    "\n",
    "        self.total_window_size = input_width + shift\n",
    "\n",
    "        self.input_slice = slice(0, input_width)\n",
    "        self.input_indices = np.arange(self.total_window_size)[self.input_slice]  ## indexes of the input data\n",
    "\n",
    "        self.label_start = self.total_window_size - self.label_width\n",
    "        self.labels_slice = slice(self.label_start, None)\n",
    "        self.label_indices = np.arange(self.total_window_size)[self.labels_slice] ## indexes of the label data\n",
    "        \n",
    "    def __repr__(self):\n",
    "        return '\\n'.join([\n",
    "            f'Total window size: {self.total_window_size}',\n",
    "            f'Input indices: {self.input_indices}',\n",
    "            f'Label indices: {self.label_indices}',\n",
    "            f'Label column name(s): {self.label_columns}'])"
   ]
  },
  {
   "cell_type": "code",
   "execution_count": 58,
   "metadata": {},
   "outputs": [],
   "source": [
    "wide_window = WindowGenerator(input_width=14, label_width=4, shift=4,\n",
    "                     label_columns=['apple_logdif'])"
   ]
  },
  {
   "cell_type": "code",
   "execution_count": 59,
   "metadata": {},
   "outputs": [
    {
     "data": {
      "text/plain": [
       "Total window size: 18\n",
       "Input indices: [ 0  1  2  3  4  5  6  7  8  9 10 11 12 13]\n",
       "Label indices: [14 15 16 17]\n",
       "Label column name(s): ['apple_logdif']"
      ]
     },
     "execution_count": 59,
     "metadata": {},
     "output_type": "execute_result"
    }
   ],
   "source": [
    "wide_window"
   ]
  },
  {
   "cell_type": "code",
   "execution_count": 60,
   "metadata": {},
   "outputs": [],
   "source": [
    "def split_window(self, features):\n",
    "    inputs = features[:, self.input_slice, :]  ## select the train slice\n",
    "    labels = features[:, self.labels_slice, :]  ## select the label slice\n",
    "    if self.label_columns is not None:\n",
    "        labels = tf.stack(\n",
    "            [labels[:, :, self.column_indices[name]] for name in self.label_columns],\n",
    "            axis=-1)  ## selecting the column \n",
    "\n",
    "  # Slicing doesn't preserve static shape information, so set the shapes\n",
    "  # manually. This way the `tf.data.Datasets` are easier to inspect.\n",
    "    inputs.set_shape([None, self.input_width, None])\n",
    "    labels.set_shape([None, self.label_width, None])\n",
    "\n",
    "    return inputs, labels"
   ]
  },
  {
   "cell_type": "code",
   "execution_count": 61,
   "metadata": {},
   "outputs": [],
   "source": [
    "WindowGenerator.split_window = split_window"
   ]
  },
  {
   "cell_type": "code",
   "execution_count": 69,
   "metadata": {},
   "outputs": [],
   "source": [
    "# Stack three slices, the length of the total window some selections\n",
    "example_window = tf.stack(\n",
    "    [np.array(train_df[:wide_window.total_window_size]),\n",
    "    np.array(train_df[20:20+wide_window.total_window_size]),\n",
    "    np.array(train_df[50:50+wide_window.total_window_size]),\n",
    "    np.array(train_df[90:90+wide_window.total_window_size]),\n",
    "    np.array(train_df[120:120+wide_window.total_window_size]),\n",
    "    np.array(train_df[150:150+wide_window.total_window_size]),\n",
    "    ]\n",
    ")"
   ]
  },
  {
   "cell_type": "code",
   "execution_count": 70,
   "metadata": {},
   "outputs": [],
   "source": [
    "example_inputs, example_labels = wide_window.split_window(example_window)"
   ]
  },
  {
   "cell_type": "code",
   "execution_count": 74,
   "metadata": {},
   "outputs": [],
   "source": [
    "wide_window.example = example_inputs, example_labels"
   ]
  },
  {
   "cell_type": "code",
   "execution_count": 75,
   "metadata": {},
   "outputs": [],
   "source": [
    "def plot(self, model=None, plot_col='apple_logdif', max_subplots=4):\n",
    "    inputs, labels = self.example\n",
    "    plt.figure(figsize=(12, 8))\n",
    "    plot_col_index = self.column_indices[plot_col]\n",
    "    max_n = min(max_subplots, len(inputs))\n",
    "    for n in range(max_n):\n",
    "        plt.subplot(max_n, 1, n+1)\n",
    "        plt.ylabel(f'{plot_col} [normed]')\n",
    "        plt.plot(self.input_indices, inputs[n, :, plot_col_index],\n",
    "                 label='Inputs', marker='.', zorder=-10)\n",
    "\n",
    "        if self.label_columns:\n",
    "            label_col_index = self.label_columns_indices.get(plot_col, None)\n",
    "        else:\n",
    "            label_col_index = plot_col_index\n",
    "\n",
    "        if label_col_index is None:\n",
    "            continue\n",
    "\n",
    "        plt.scatter(self.label_indices, labels[n, :, label_col_index],\n",
    "                edgecolors='k', label='Labels', c='#2ca02c', s=64)\n",
    "        \n",
    "        if model is not None:\n",
    "            predictions = model(inputs)\n",
    "            plt.scatter(self.label_indices, predictions[n, :, label_col_index],\n",
    "                        marker='X', edgecolors='k', label='Predictions',\n",
    "                        c='#ff7f0e', s=64)\n",
    "\n",
    "        if n == 0:\n",
    "            plt.legend()\n",
    "\n",
    "    plt.xlabel('Time [h]')"
   ]
  },
  {
   "cell_type": "code",
   "execution_count": 76,
   "metadata": {},
   "outputs": [],
   "source": [
    "WindowGenerator.plot = plot"
   ]
  },
  {
   "cell_type": "code",
   "execution_count": 77,
   "metadata": {},
   "outputs": [
    {
     "data": {
      "image/png": "[encoded data removed]",
      "text/plain": [
       "<Figure size 1200x800 with 4 Axes>"
      ]
     },
     "metadata": {},
     "output_type": "display_data"
    }
   ],
   "source": [
    "wide_window.plot(plot_col='apple_logdif')"
   ]
  },
  {
   "cell_type": "code",
   "execution_count": null,
   "metadata": {},
   "outputs": [],
   "source": []
  }
 ],
 "metadata": {
  "kernelspec": {
   "display_name": "Python 3 (ipykernel)",
   "language": "python",
   "name": "python3"
  },
  "language_info": {
   "codemirror_mode": {
    "name": "ipython",
    "version": 3
   },
   "file_extension": ".py",
   "mimetype": "text/x-python",
   "name": "python",
   "nbconvert_exporter": "python",
   "pygments_lexer": "ipython3",
   "version": "3.9.13"
  }
 },
 "nbformat": 4,
 "nbformat_minor": 4
}
